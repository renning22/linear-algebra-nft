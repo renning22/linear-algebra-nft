{
 "cells": [
  {
   "cell_type": "markdown",
   "id": "d5e24a70",
   "metadata": {},
   "source": [
    "## The Background\n",
    "\n",
    "In classical cryptography, the **Hill cipher** is a polygraphic substitution cipher based on matrix multiplications under a certain modulo (normally 26 for alphabet). Please refer [wikipedia](https://en.wikipedia.org/wiki/Hill_cipher) for the detail. The most important theorem of Hill cipher is as follows:\n",
    "\n",
    "For any given matrix A, there exists a matrix B satisfies ```AB = BA = E``` iff. ```det(A)``` must not have any common factors with the modular base. Here **det(A)** refers to the determinant of matrix A.\n",
    "\n",
    "In our case where the modular base equals **3**, we have:\n",
    "\n",
    "### Theorem 1\n",
    "For any given matrix A, there exists a matrix B satisfies ```AB = BA = E``` iff. ```det(A) | 3 > 0```.\n",
    "\n",
    "Also, we can compute B from A by ```B = (1/det(A)) * adj(A) | 3 = det(A) * adj(A) | 3```, where adj(A) is the adjoint matrix of A. Note that if det(A) is 2, we have 1/det(A) equals 2 under modulo 3, and the same holds when det(A) is 1.\n",
    "\n",
    "To demonstrate, we first define a matrix A, and compute det(A)"
   ]
  },
  {
   "cell_type": "code",
   "execution_count": 1,
   "id": "0f9f6fd1",
   "metadata": {},
   "outputs": [
    {
     "data": {
      "text/plain": [
       "2"
      ]
     },
     "execution_count": 1,
     "metadata": {},
     "output_type": "execute_result"
    }
   ],
   "source": [
    "import numpy as np\n",
    "from matrix import Matrix\n",
    "\n",
    "A = Matrix(idx=1024)\n",
    "int(np.linalg.det(A.m))"
   ]
  },
  {
   "cell_type": "markdown",
   "id": "de847a7a",
   "metadata": {},
   "source": [
    "Then we get B from the adjoint matrix of A"
   ]
  },
  {
   "cell_type": "code",
   "execution_count": 2,
   "id": "196fb0d3",
   "metadata": {},
   "outputs": [
    {
     "data": {
      "text/plain": [
       "array([[0, 0, 1],\n",
       "       [2, 2, 2],\n",
       "       [0, 1, 2]])"
      ]
     },
     "execution_count": 2,
     "metadata": {},
     "output_type": "execute_result"
    }
   ],
   "source": [
    "def pair(a):\n",
    "    a = a.astype(int)\n",
    "    A = a[1][1] * a[2][2] - a[1][2] * a[2][1]\n",
    "    B = -(a[0][1] * a[2][2] - a[0][2] * a[2][1])\n",
    "    C = a[0][1] * a[1][2] - a[0][2] * a[1][1]\n",
    "    D = -(a[1][0] * a[2][2] - a[1][2] * a[2][0])\n",
    "    E = a[0][0] * a[2][2] - a[0][2] * a[2][0]\n",
    "    F = -(a[0][0] * a[1][2] - a[0][2] * a[1][0])\n",
    "    G = a[1][0] * a[2][1] - a[1][1] * a[2][0]\n",
    "    H = -(a[0][0] * a[2][1] - a[0][1] * a[2][0])\n",
    "    I = a[0][0] * a[1][1] - a[0][1] * a[1][0]\n",
    "\n",
    "    b = np.array([[A, B, C],\n",
    "                  [D, E, F],\n",
    "                  [G, H, I]])\n",
    "\n",
    "    b = b * int(np.linalg.det(a))\n",
    "    b = b % 3\n",
    "    return Matrix(m=b)\n",
    "\n",
    "B = pair(A.m)\n",
    "B"
   ]
  },
  {
   "cell_type": "markdown",
   "id": "edfd6d11",
   "metadata": {},
   "source": [
    "and check the result"
   ]
  },
  {
   "cell_type": "code",
   "execution_count": 3,
   "id": "90383f3b",
   "metadata": {},
   "outputs": [
    {
     "data": {
      "text/plain": [
       "array([[1, 0, 0],\n",
       "       [0, 1, 0],\n",
       "       [0, 0, 1]])"
      ]
     },
     "execution_count": 3,
     "metadata": {},
     "output_type": "execute_result"
    }
   ],
   "source": [
    "A * B"
   ]
  },
  {
   "cell_type": "code",
   "execution_count": 4,
   "id": "55fea752",
   "metadata": {},
   "outputs": [
    {
     "data": {
      "text/plain": [
       "array([[1, 0, 0],\n",
       "       [0, 1, 0],\n",
       "       [0, 0, 1]])"
      ]
     },
     "execution_count": 4,
     "metadata": {},
     "output_type": "execute_result"
    }
   ],
   "source": [
    "B * A"
   ]
  },
  {
   "cell_type": "markdown",
   "id": "32ec1984",
   "metadata": {},
   "source": [
    "Next, we compute det(X) for any matrix X in the scope"
   ]
  },
  {
   "cell_type": "code",
   "execution_count": 5,
   "id": "9078319f",
   "metadata": {},
   "outputs": [
    {
     "data": {
      "text/plain": [
       "0    7925\n",
       "1    5880\n",
       "2    5878\n",
       "Name: det, dtype: int64"
      ]
     },
     "execution_count": 5,
     "metadata": {},
     "output_type": "execute_result"
    }
   ],
   "source": [
    "import pandas as pd\n",
    "\n",
    "N = 19683\n",
    "res = []\n",
    "for i in range(N):\n",
    "    d = int(np.linalg.det(Matrix(idx=i).m)) % 3\n",
    "    res.append({\n",
    "        'idx': i,\n",
    "        'det': d\n",
    "    })\n",
    "df = pd.DataFrame(res)\n",
    "df['det'].value_counts()"
   ]
  },
  {
   "cell_type": "markdown",
   "id": "996b6d19",
   "metadata": {},
   "source": [
    "This means we have **5879** pairs of **Hill cipher** matrices."
   ]
  },
  {
   "cell_type": "code",
   "execution_count": null,
   "id": "02bf3062",
   "metadata": {},
   "outputs": [],
   "source": []
  }
 ],
 "metadata": {
  "kernelspec": {
   "display_name": "m",
   "language": "python",
   "name": "m"
  },
  "language_info": {
   "codemirror_mode": {
    "name": "ipython",
    "version": 3
   },
   "file_extension": ".py",
   "mimetype": "text/x-python",
   "name": "python",
   "nbconvert_exporter": "python",
   "pygments_lexer": "ipython3",
   "version": "3.8.11"
  }
 },
 "nbformat": 4,
 "nbformat_minor": 5
}
