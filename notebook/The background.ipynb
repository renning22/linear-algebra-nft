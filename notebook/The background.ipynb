{
 "cells": [
  {
   "cell_type": "markdown",
   "id": "d5e24a70",
   "metadata": {},
   "source": [
    "## The Background\n",
    "\n",
    "In classical cryptography, the **Hill cipher** is a polygraphic substitution cipher based on matrix multiplications under a certain modulo (normally 26 for alphabet). Please refer [wikipedia](https://en.wikipedia.org/wiki/Hill_cipher) for the detail. The most important theorem of Hill cipher is as follows:\n",
    "\n",
    "For any given matrix A, there exists a matrix B satisfies ```AB = BA = E``` iff. ```det(A)``` must not have any common factors with the modular base. Here **det(A)** refers to the determinant of matrix A.\n",
    "\n",
    "In our case where the modular base equals **3**, we have:\n",
    "\n",
    "### Theorem 1\n",
    "For any given matrix A, there exists a matrix B satisfies ```AB = BA = E``` iff. ```det(A) | 3 > 0```.\n",
    "\n",
    "Also, we can compute B from A by ```B = (1/det(A)) * adj(A) | 3 = det(A) * adj(A) | 3```, where adj(A) is the adjoint matrix of A. Note that if det(A) is 2, we have 1/det(A) equals 2 under modulo 3, and the same holds when det(A) is 1.\n",
    "\n",
    "To demonstrate, we first define a matrix A, and compute det(A)"
   ]
  },
  {
   "cell_type": "code",
   "execution_count": 1,
   "id": "0f9f6fd1",
   "metadata": {},
   "outputs": [
    {
     "data": {
      "text/plain": [
       "2"
      ]
     },
     "execution_count": 1,
     "metadata": {},
     "output_type": "execute_result"
    }
   ],
   "source": [
    "import numpy as np\n",
    "from matrix import Matrix\n",
    "\n",
    "A = Matrix(idx=1024)\n",
    "int(np.linalg.det(A.m))"
   ]
  },
  {
   "cell_type": "markdown",
   "id": "de847a7a",
   "metadata": {},
   "source": [
    "Then we get B from the adjoint matrix of A"
   ]
  },
  {
   "cell_type": "code",
   "execution_count": 6,
   "id": "196fb0d3",
   "metadata": {},
   "outputs": [
    {
     "data": {
      "text/plain": [
       "array([[0, 0, 1],\n",
       "       [2, 2, 2],\n",
       "       [0, 1, 2]], dtype=uint8)"
      ]
     },
     "execution_count": 6,
     "metadata": {},
     "output_type": "execute_result"
    }
   ],
   "source": [
    "B = A.inverse()\n",
    "B"
   ]
  },
  {
   "cell_type": "markdown",
   "id": "edfd6d11",
   "metadata": {},
   "source": [
    "and check the result"
   ]
  },
  {
   "cell_type": "code",
   "execution_count": 7,
   "id": "90383f3b",
   "metadata": {},
   "outputs": [
    {
     "data": {
      "text/plain": [
       "array([[1, 0, 0],\n",
       "       [0, 1, 0],\n",
       "       [0, 0, 1]], dtype=uint8)"
      ]
     },
     "execution_count": 7,
     "metadata": {},
     "output_type": "execute_result"
    }
   ],
   "source": [
    "A * B"
   ]
  },
  {
   "cell_type": "code",
   "execution_count": 8,
   "id": "55fea752",
   "metadata": {},
   "outputs": [
    {
     "data": {
      "text/plain": [
       "array([[1, 0, 0],\n",
       "       [0, 1, 0],\n",
       "       [0, 0, 1]], dtype=uint8)"
      ]
     },
     "execution_count": 8,
     "metadata": {},
     "output_type": "execute_result"
    }
   ],
   "source": [
    "B * A"
   ]
  },
  {
   "cell_type": "markdown",
   "id": "32ec1984",
   "metadata": {},
   "source": [
    "Next, we compute det(X) for any matrix X in the scope"
   ]
  },
  {
   "cell_type": "code",
   "execution_count": 9,
   "id": "9078319f",
   "metadata": {},
   "outputs": [
    {
     "data": {
      "text/plain": [
       "0    7925\n",
       "1    5880\n",
       "2    5878\n",
       "Name: det, dtype: int64"
      ]
     },
     "execution_count": 9,
     "metadata": {},
     "output_type": "execute_result"
    }
   ],
   "source": [
    "import pandas as pd\n",
    "\n",
    "N = 19683\n",
    "res = []\n",
    "for i in range(N):\n",
    "    d = int(np.linalg.det(Matrix(idx=i).m)) % 3\n",
    "    res.append({\n",
    "        'idx': i,\n",
    "        'det': d\n",
    "    })\n",
    "df = pd.DataFrame(res)\n",
    "df['det'].value_counts()"
   ]
  },
  {
   "cell_type": "markdown",
   "id": "996b6d19",
   "metadata": {},
   "source": [
    "This means we have **5879** pairs of **Hill cipher** matrices."
   ]
  },
  {
   "cell_type": "code",
   "execution_count": 20,
   "id": "02bf3062",
   "metadata": {},
   "outputs": [
    {
     "name": "stdout",
     "output_type": "stream",
     "text": [
      "5880 5878\n"
     ]
    }
   ],
   "source": [
    "det_1 = [i['idx'] for i in res if i['det'] == 1]\n",
    "det_2 = [i['idx'] for i in res if i['det'] == 2]\n",
    "print(len(det_1), len(det_2))"
   ]
  },
  {
   "cell_type": "code",
   "execution_count": 23,
   "id": "10374ebd",
   "metadata": {},
   "outputs": [
    {
     "name": "stdout",
     "output_type": "stream",
     "text": [
      "101 115\n"
     ]
    }
   ],
   "source": [
    "self_1 = [idx for idx in det_1 if Matrix(idx).inverse() == Matrix(idx)]\n",
    "self_2 = [idx for idx in det_2 if Matrix(idx).inverse() == Matrix(idx)]\n",
    "print(len(self_1), len(self_2))"
   ]
  },
  {
   "cell_type": "code",
   "execution_count": 27,
   "id": "dfb0ffb1",
   "metadata": {},
   "outputs": [
    {
     "name": "stdout",
     "output_type": "stream",
     "text": [
      "[[1 0 0]\n",
      " [1 2 0]\n",
      " [1 0 2]]\n",
      "[[1 0 0]\n",
      " [1 2 0]\n",
      " [1 0 2]]\n"
     ]
    }
   ],
   "source": [
    "A = Matrix(self_1[80])\n",
    "print(A)\n",
    "A_inv = A.inverse()\n",
    "print(A_inv)\n",
    "print(A * "
   ]
  },
  {
   "cell_type": "markdown",
   "id": "114a11e6",
   "metadata": {},
   "source": [
    "Those involutory matrices (self-inverse), i.e. `inv(A) = A`"
   ]
  }
 ],
 "metadata": {
  "kernelspec": {
   "display_name": "Python 3 (ipykernel)",
   "language": "python",
   "name": "python3"
  },
  "language_info": {
   "codemirror_mode": {
    "name": "ipython",
    "version": 3
   },
   "file_extension": ".py",
   "mimetype": "text/x-python",
   "name": "python",
   "nbconvert_exporter": "python",
   "pygments_lexer": "ipython3",
   "version": "3.8.13"
  }
 },
 "nbformat": 4,
 "nbformat_minor": 5
}
